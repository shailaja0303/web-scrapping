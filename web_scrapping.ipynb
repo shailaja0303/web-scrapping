{
  "nbformat": 4,
  "nbformat_minor": 0,
  "metadata": {
    "colab": {
      "name": "web scrapping.ipynb",
      "provenance": []
    },
    "kernelspec": {
      "name": "python3",
      "display_name": "Python 3"
    },
    "language_info": {
      "name": "python"
    }
  },
  "cells": [
    {
      "cell_type": "code",
      "source": [
        "items = []\n",
        "for i in range(2000, 5000):\n",
        "    s = str(i)\n",
        "    if (int(s[0])%2==0) and (int(s[1])%2==0) and (int(s[3])%2==0)  :\n",
        "       items.append(s)\n",
        "print( \",\".join(items))\n",
        "\n",
        "       "
      ],
      "metadata": {
        "id": "tUZ1udf5ErpG"
      },
      "execution_count": null,
      "outputs": []
    },
    {
      "cell_type": "code",
      "source": [
        "# youtube video scrapping"
      ],
      "metadata": {
        "id": "Lj5Zrceo_hla"
      },
      "execution_count": null,
      "outputs": []
    },
    {
      "cell_type": "markdown",
      "source": [
        ""
      ],
      "metadata": {
        "id": "pXJOqUHY_g8i"
      }
    },
    {
      "cell_type": "code",
      "source": [
        "pip install pytube"
      ],
      "metadata": {
        "colab": {
          "base_uri": "https://localhost:8080/"
        },
        "id": "bRzxXkZU7DjB",
        "outputId": "f81bf4ba-27b1-417d-a2f5-8b2723e95ea3"
      },
      "execution_count": null,
      "outputs": [
        {
          "output_type": "stream",
          "name": "stdout",
          "text": [
            "Collecting pytube\n",
            "  Downloading pytube-12.0.0-py3-none-any.whl (56 kB)\n",
            "\u001b[?25l\r\u001b[K     |█████▉                          | 10 kB 16.6 MB/s eta 0:00:01\r\u001b[K     |███████████▋                    | 20 kB 12.7 MB/s eta 0:00:01\r\u001b[K     |█████████████████▍              | 30 kB 9.5 MB/s eta 0:00:01\r\u001b[K     |███████████████████████▏        | 40 kB 8.4 MB/s eta 0:00:01\r\u001b[K     |█████████████████████████████   | 51 kB 5.5 MB/s eta 0:00:01\r\u001b[K     |████████████████████████████████| 56 kB 2.6 MB/s \n",
            "\u001b[?25hInstalling collected packages: pytube\n",
            "Successfully installed pytube-12.0.0\n"
          ]
        }
      ]
    },
    {
      "cell_type": "code",
      "source": [
        "from pytube import YouTube"
      ],
      "metadata": {
        "id": "ts8YkHZY7Yu3"
      },
      "execution_count": null,
      "outputs": []
    },
    {
      "cell_type": "code",
      "source": [
        "link= input('enter the link for youtube video')\n",
        "yt= YouTube(link)\n",
        "print('title:',yt.title)\n",
        "print('RATING:',yt.rating)\n",
        "print('VIEWS:',yt.views)\n",
        "print('LENGHT:',yt.length)\n",
        "print('publishdate:',yt.publish_date)\n",
        "print('url pof the channel that published it',yt.channel_url ) \n",
        "print('author of the video:',yt.author)\n",
        "stream= yt.streams.get_lowest_resolution()\n",
        "stream.download()\n",
        "print(\"download completed\")\n"
      ],
      "metadata": {
        "colab": {
          "base_uri": "https://localhost:8080/"
        },
        "id": "xav5SuYf7p4P",
        "outputId": "225f5053-06ab-4d13-d49c-e8213bf09581"
      },
      "execution_count": null,
      "outputs": [
        {
          "output_type": "stream",
          "name": "stdout",
          "text": [
            "enter the link for youtube videohttps://youtu.be/zCT3wcoZ9ds\n",
            "title: How to Stop Overthinking? | Sadhguru Answers\n",
            "RATING: None\n",
            "VIEWS: 3386951\n",
            "LENGHT: 616\n",
            "publishdate: 2021-05-03 00:00:00\n",
            "url pof the channel that published it https://www.youtube.com/channel/UCcYzLCs3zrQIBVHYA1sK2sw\n",
            "author of the video: Sadhguru\n",
            "download completed\n"
          ]
        }
      ]
    },
    {
      "cell_type": "code",
      "source": [
        "#insta scrapping "
      ],
      "metadata": {
        "id": "t2DbiGNG9kdX"
      },
      "execution_count": null,
      "outputs": []
    },
    {
      "cell_type": "code",
      "source": [
        "pip install instaloader\n"
      ],
      "metadata": {
        "colab": {
          "base_uri": "https://localhost:8080/"
        },
        "id": "jKlCA_QEC0Gy",
        "outputId": "0231630c-7adf-40a0-9fdd-eff7d41c3b73"
      },
      "execution_count": null,
      "outputs": [
        {
          "output_type": "stream",
          "name": "stdout",
          "text": [
            "Collecting instaloader\n",
            "  Downloading instaloader-4.9.tar.gz (59 kB)\n",
            "\u001b[?25l\r\u001b[K     |█████▌                          | 10 kB 20.7 MB/s eta 0:00:01\r\u001b[K     |███████████                     | 20 kB 13.5 MB/s eta 0:00:01\r\u001b[K     |████████████████▋               | 30 kB 10.2 MB/s eta 0:00:01\r\u001b[K     |██████████████████████▏         | 40 kB 4.5 MB/s eta 0:00:01\r\u001b[K     |███████████████████████████▋    | 51 kB 5.3 MB/s eta 0:00:01\r\u001b[K     |████████████████████████████████| 59 kB 3.2 MB/s \n",
            "\u001b[?25hRequirement already satisfied: requests>=2.4 in /usr/local/lib/python3.7/dist-packages (from instaloader) (2.23.0)\n",
            "Requirement already satisfied: certifi>=2017.4.17 in /usr/local/lib/python3.7/dist-packages (from requests>=2.4->instaloader) (2021.10.8)\n",
            "Requirement already satisfied: urllib3!=1.25.0,!=1.25.1,<1.26,>=1.21.1 in /usr/local/lib/python3.7/dist-packages (from requests>=2.4->instaloader) (1.24.3)\n",
            "Requirement already satisfied: idna<3,>=2.5 in /usr/local/lib/python3.7/dist-packages (from requests>=2.4->instaloader) (2.10)\n",
            "Requirement already satisfied: chardet<4,>=3.0.2 in /usr/local/lib/python3.7/dist-packages (from requests>=2.4->instaloader) (3.0.4)\n",
            "Building wheels for collected packages: instaloader\n",
            "  Building wheel for instaloader (setup.py) ... \u001b[?25l\u001b[?25hdone\n",
            "  Created wheel for instaloader: filename=instaloader-4.9-py3-none-any.whl size=61065 sha256=693bc846327a4b09bb2a2650a87b66e44cbaee7f5c6618bb308a3feaa1098859\n",
            "  Stored in directory: /root/.cache/pip/wheels/85/fb/29/7d540da52b65c8d4718cbb0e24a057d2c0071174716391bd85\n",
            "Successfully built instaloader\n",
            "Installing collected packages: instaloader\n",
            "Successfully installed instaloader-4.9\n"
          ]
        }
      ]
    },
    {
      "cell_type": "code",
      "source": [
        "import instaloader\n",
        "il=instaloader.Instaloader()\n",
        "profile=instaloader.Profile.from_username(il.context,\"mevidyutjammwal\")\n",
        "print(type(profile))\n",
        "print(\"username:\",profile.username)\n",
        "print(\"userid:\",profile.userid)\n",
        "print(\"No.of followers:\" ,profile.followers)\n",
        "print(\"no of followees:\",profile.followees)\n",
        "print(\"BIO:\",profile.biography,profile.external_url)\n",
        "\n"
      ],
      "metadata": {
        "colab": {
          "base_uri": "https://localhost:8080/"
        },
        "id": "rZXEJXLTDD8i",
        "outputId": "3d602fe7-8e12-42b2-acc9-ea8b23fe29a3"
      },
      "execution_count": null,
      "outputs": [
        {
          "output_type": "stream",
          "name": "stdout",
          "text": [
            "<class 'instaloader.structures.Profile'>\n",
            "username: mevidyutjammwal\n",
            "userid: 3960556458\n",
            "No.of followers: 6361646\n",
            "no of followees: 0\n",
            "BIO:  http://bit.ly/SanakNowStreaming\n"
          ]
        }
      ]
    },
    {
      "cell_type": "markdown",
      "source": [
        "tutorial\n"
      ],
      "metadata": {
        "id": "QQ6fNbdb_Ole"
      }
    },
    {
      "cell_type": "code",
      "source": [
        "a=3\n",
        "b=6\n",
        "print(a//b)\n",
        "print(a/b)\n",
        "print(b/a)"
      ],
      "metadata": {
        "colab": {
          "base_uri": "https://localhost:8080/"
        },
        "id": "JubiLtQh_Nfb",
        "outputId": "ad8f9f35-f019-41ff-b17d-f959d8cb8d3d"
      },
      "execution_count": null,
      "outputs": [
        {
          "output_type": "stream",
          "name": "stdout",
          "text": [
            "0\n",
            "0.5\n",
            "2.0\n"
          ]
        }
      ]
    }
  ]
}